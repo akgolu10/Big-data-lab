{
 "cells": [
  {
   "cell_type": "code",
   "execution_count": 5,
   "id": "073f78f5-0819-4037-8887-f023df013043",
   "metadata": {},
   "outputs": [
    {
     "name": "stdout",
     "output_type": "stream",
     "text": [
      "[5 4 6 3 2 1]\n"
     ]
    }
   ],
   "source": [
    "#Ques1\n",
    "import numpy as np\n",
    "arr = np.array([1, 2, 3, 6, 4, 5])\n",
    "arr1 = arr[::-1]\n",
    "print(arr1)\n"
   ]
  },
  {
   "cell_type": "code",
   "execution_count": 6,
   "id": "64f7a31c-96c2-4bac-a5d7-74925d0a142e",
   "metadata": {},
   "outputs": [
    {
     "ename": "ValueError",
     "evalue": "setting an array element with a sequence. The requested array has an inhomogeneous shape after 1 dimensions. The detected shape was (2,) + inhomogeneous part.",
     "output_type": "error",
     "traceback": [
      "\u001b[1;31m---------------------------------------------------------------------------\u001b[0m",
      "\u001b[1;31mValueError\u001b[0m                                Traceback (most recent call last)",
      "Cell \u001b[1;32mIn[6], line 3\u001b[0m\n\u001b[0;32m      1\u001b[0m \u001b[38;5;66;03m#Ques2\u001b[39;00m\n\u001b[0;32m      2\u001b[0m \u001b[38;5;28;01mimport\u001b[39;00m \u001b[38;5;21;01mnumpy\u001b[39;00m \u001b[38;5;28;01mas\u001b[39;00m \u001b[38;5;21;01mnp\u001b[39;00m\n\u001b[1;32m----> 3\u001b[0m arr1 \u001b[38;5;241m=\u001b[39m \u001b[43mnp\u001b[49m\u001b[38;5;241;43m.\u001b[39;49m\u001b[43marray\u001b[49m\u001b[43m(\u001b[49m\u001b[43m[\u001b[49m\u001b[43m[\u001b[49m\u001b[38;5;241;43m7\u001b[39;49m\u001b[43m,\u001b[49m\u001b[38;5;241;43m2\u001b[39;49m\u001b[43m,\u001b[49m\u001b[38;5;241;43m1\u001b[39;49m\u001b[43m]\u001b[49m\u001b[43m,\u001b[49m\u001b[43m \u001b[49m\u001b[43m[\u001b[49m\u001b[38;5;241;43m3\u001b[39;49m\u001b[43m,\u001b[49m\u001b[38;5;241;43m4\u001b[39;49m\u001b[43m]\u001b[49m\u001b[43m]\u001b[49m\u001b[43m)\u001b[49m\n\u001b[0;32m      4\u001b[0m arr2 \u001b[38;5;241m=\u001b[39m np\u001b[38;5;241m.\u001b[39marray([[\u001b[38;5;241m5\u001b[39m,\u001b[38;5;241m2\u001b[39m,\u001b[38;5;241m1\u001b[39m], [\u001b[38;5;241m3\u001b[39m,\u001b[38;5;241m4\u001b[39m]])\n\u001b[0;32m      5\u001b[0m \u001b[38;5;28;01mif\u001b[39;00m (arr1\u001b[38;5;241m.\u001b[39mall() \u001b[38;5;241m==\u001b[39m arr2\u001b[38;5;241m.\u001b[39mall()):\n",
      "\u001b[1;31mValueError\u001b[0m: setting an array element with a sequence. The requested array has an inhomogeneous shape after 1 dimensions. The detected shape was (2,) + inhomogeneous part."
     ]
    }
   ],
   "source": [
    "#Ques2\n",
    "import numpy as np\n",
    "arr1 = np.array([[7,2,1], [3,4]])\n",
    "arr2 = np.array([[5,2,1], [3,4]])\n",
    "if (arr1.all() == arr2.all()):\n",
    "  print(\"SAME\")\n",
    "else:\n",
    "  print(\"NOT SAME\")\n"
   ]
  },
  {
   "cell_type": "code",
   "execution_count": 7,
   "id": "8007ee2e-cd46-46fe-b50a-0e92975181f2",
   "metadata": {},
   "outputs": [
    {
     "name": "stdout",
     "output_type": "stream",
     "text": [
      "Most frequent value: 1\n",
      "Indices: [0 5 7 8 9]\n",
      "Most frequent value: 1\n",
      "Indices: [0 1 2]\n"
     ]
    }
   ],
   "source": [
    "#Quest3  Part-1\n",
    "import numpy as np\n",
    "\n",
    "x = np.array([1,2,3,4,5,1,2,1,1,1])\n",
    "\n",
    "counts = np.bincount(x) \n",
    "most_frequent_value = counts.argmax() \n",
    "indices = np.where(x == most_frequent_value)[0] \n",
    "\n",
    "print(f\"Most frequent value: {most_frequent_value}\")\n",
    "print(f\"Indices: {indices}\")\n",
    "\n",
    "# Ques Part-2\n",
    "y = np.array([1, 1, 1, 2, 3, 4, 2, 4, 3, 3])\n",
    "\n",
    "counts = np.bincount(y)\n",
    "most_frequent_value = counts.argmax()\n",
    "indices = np.where(y == most_frequent_value)[0]\n",
    "\n",
    "print(f\"Most frequent value: {most_frequent_value}\")\n",
    "print(f\"Indices: {indices}\")"
   ]
  },
  {
   "cell_type": "code",
   "execution_count": 8,
   "id": "40edea7f-5399-4e0d-971f-b5b2a8113200",
   "metadata": {},
   "outputs": [
    {
     "name": "stdout",
     "output_type": "stream",
     "text": [
      "[[ 4  1  9]\n",
      " [12  3  1]\n",
      " [ 4  5  6]]\n",
      "\n",
      " the sum of matrix is 45\n",
      "\n",
      " the sum of all rows are: [[14]\n",
      " [16]\n",
      " [15]]\n",
      "\n",
      " the sum of all columns are: [[20  9 16]]\n"
     ]
    }
   ],
   "source": [
    "#Ques4\n",
    "import numpy as np\n",
    "\n",
    "x = np.matrix('[4, 1, 9; 12, 3, 1; 4, 5, 6]')\n",
    "print(x)\n",
    "\n",
    "sum_matrix = np.sum(x)\n",
    "print(\"\\n the sum of matrix is\", sum_matrix)\n",
    "\n",
    "sum_row = x.sum(axis = 1)\n",
    "print(\"\\n the sum of all rows are:\", sum_row)\n",
    "\n",
    "sum_col = x.sum(axis = 0)\n",
    "print(\"\\n the sum of all columns are:\", sum_col)"
   ]
  },
  {
   "cell_type": "code",
   "execution_count": null,
   "id": "8f6f59a1-a1f4-4ee7-867d-cc31d7be8aa1",
   "metadata": {},
   "outputs": [],
   "source": []
  },
  {
   "cell_type": "code",
   "execution_count": null,
   "id": "543be6aa-e55c-4d09-8e63-6494d4583257",
   "metadata": {},
   "outputs": [],
   "source": []
  }
 ],
 "metadata": {
  "kernelspec": {
   "display_name": "Python 3 (ipykernel)",
   "language": "python",
   "name": "python3"
  },
  "language_info": {
   "codemirror_mode": {
    "name": "ipython",
    "version": 3
   },
   "file_extension": ".py",
   "mimetype": "text/x-python",
   "name": "python",
   "nbconvert_exporter": "python",
   "pygments_lexer": "ipython3",
   "version": "3.11.4"
  }
 },
 "nbformat": 4,
 "nbformat_minor": 5
}
